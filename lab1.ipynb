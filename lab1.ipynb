{
  "cells": [
    {
      "cell_type": "markdown",
      "id": "0cfa247f-bf3f-4910-90dc-ae8ecb607964",
      "metadata": {
        "id": "0cfa247f-bf3f-4910-90dc-ae8ecb607964"
      },
      "source": [
        "# Buổi 4: Tìm kiếm trong không gian trạng thái"
      ]
    },
    {
      "cell_type": "markdown",
      "id": "48ace7ff-b7d1-4cf2-94da-a21d2d821112",
      "metadata": {
        "id": "48ace7ff-b7d1-4cf2-94da-a21d2d821112"
      },
      "source": [
        "### Bài 1. Biễu diễn đồ thị\n",
        "\n",
        "Cho đồ thị hàm số **G** (**V**, **E**) như bên dưới:\n",
        "\n",
        "![image](dothi.png)"
      ]
    },
    {
      "cell_type": "markdown",
      "id": "51164f9d-5d98-4361-b2c2-1fb23fd3704c",
      "metadata": {
        "id": "51164f9d-5d98-4361-b2c2-1fb23fd3704c"
      },
      "source": [
        "#### 1. Biễu diễn bằng danh sách / ma trận kề"
      ]
    },
    {
      "cell_type": "code",
      "execution_count": 2,
      "id": "8715cbf5-d144-479d-9bb3-eb0be736fa12",
      "metadata": {
        "colab": {
          "base_uri": "https://localhost:8080/"
        },
        "id": "8715cbf5-d144-479d-9bb3-eb0be736fa12",
        "outputId": "7737b7fa-f275-48b7-aba9-40c190458aa4"
      },
      "outputs": [
        {
          "name": "stdout",
          "output_type": "stream",
          "text": [
            "A: C, E, D, F\n",
            "B: \n",
            "C: H\n",
            "D: H, E\n",
            "E: K, I\n",
            "F: G, I\n",
            "G: \n",
            "H: K\n",
            "I: B, K\n",
            "K: B\n"
          ]
        }
      ],
      "source": [
        "\"\"\" CÁC BẠN LÀM BÀI Ở ĐÂY \"\"\"\n",
        "import numpy as np\n",
        "import pprint\n",
        "\n",
        "ADJ ={}\n",
        "ADJ['A'] = {'C','E','F','D'}\n",
        "ADJ['B'] = {}\n",
        "ADJ['C'] = {'H'}\n",
        "ADJ['D'] = {'H','E'}\n",
        "ADJ['E'] = {'K','I'}\n",
        "ADJ['F'] = {'I','G'}\n",
        "ADJ['G'] = {}\n",
        "ADJ['H'] = {'K'}\n",
        "ADJ['I'] = {'K','B'}\n",
        "ADJ['K'] = {'B'}\n",
        "\n",
        "def show_adj_list(g):\n",
        "    for node in g:\n",
        "        print(node + \":\", \", \".join(g[node]))\n",
        "\n",
        "show_adj_list(ADJ)\n",
        "\n",
        "def show_adj_matrix(g):\n",
        "    nodes = sorted(g.keys())\n",
        "    size = len(nodes)\n",
        "    idx = {nodes[i]: i for i in range(size)}\n",
        "    mat = np.zeros((size, size), dtype=int)\n",
        "    for u in g:\n",
        "        for v in g[u]:\n",
        "            mat[idx[u], idx[v]] = 1\n",
        "    pprint.pprint(mat)\n",
        "\n",
        "def read_graph(file_path=\"dske1.txt\"):\n",
        "    g = {}\n",
        "    with open(file_path, \"r\", encoding=\"utf-8\") as f:\n",
        "        n = int(f.readline().strip())\n",
        "        for _ in range(n):\n",
        "            row = f.readline().split()\n",
        "            g[row[0]] = row[1:] if len(row) > 1 else []\n",
        "    return g"
      ]
    },
    {
      "cell_type": "code",
      "execution_count": 3,
      "id": "44f952fc-0188-4215-823b-6efb1ba5622a",
      "metadata": {
        "id": "44f952fc-0188-4215-823b-6efb1ba5622a",
        "outputId": "baeb4f12-bdca-4004-ef0e-704ece3c55d3"
      },
      "outputs": [
        {
          "name": "stdout",
          "output_type": "stream",
          "text": [
            "{'A': {'C', 'E', 'D', 'F'},\n",
            " 'B': {},\n",
            " 'C': {'H'},\n",
            " 'D': {'H', 'E'},\n",
            " 'E': {'K', 'I'},\n",
            " 'F': {'G', 'I'},\n",
            " 'G': {},\n",
            " 'H': {'K'},\n",
            " 'I': {'B', 'K'},\n",
            " 'K': {'B'}}\n"
          ]
        }
      ],
      "source": [
        "import pprint\n",
        "pprint.pprint(ADJ)"
      ]
    },
    {
      "cell_type": "markdown",
      "id": "c975f35c-f742-4ac2-be01-1fe53c94eadf",
      "metadata": {
        "id": "c975f35c-f742-4ac2-be01-1fe53c94eadf"
      },
      "source": [
        "#### 2. Thao tác duyệt đồ thị\n",
        "(a) Liệt kê các đỉnh trong đồ thị <br/>\n",
        "(b) Liệt kê tất cả các cạnh đồ thị hiển thị dạng danh sách kề <br/>\n",
        "(c) Cho hai đỉnh A, B. Hỏi hai đỉnh A, B có kề nhau không? <br/>\n",
        "(d) Cho một đỉnh A. Hỏi danh sách các đỉnh kề với A <br/>"
      ]
    },
    {
      "cell_type": "code",
      "execution_count": null,
      "id": "d286c1a6-ef93-4581-9f7e-96ea10020985",
      "metadata": {
        "colab": {
          "base_uri": "https://localhost:8080/"
        },
        "id": "d286c1a6-ef93-4581-9f7e-96ea10020985",
        "outputId": "a575f95f-b8bb-4bdd-ec25-a78bdb24814d"
      },
      "outputs": [
        {
          "name": "stdout",
          "output_type": "stream",
          "text": [
            "2. Thao tác duyệt đồ thị\n"
          ]
        }
      ],
      "source": [
        "print(\"2. Thao tác duyệt đồ thị\")"
      ]
    },
    {
      "cell_type": "code",
      "execution_count": 4,
      "id": "5faa6543-247a-4903-ba2a-9c1595af4f41",
      "metadata": {
        "colab": {
          "base_uri": "https://localhost:8080/"
        },
        "id": "5faa6543-247a-4903-ba2a-9c1595af4f41",
        "outputId": "66c96290-9ccd-4e8b-e6e8-f3237f80d362"
      },
      "outputs": [
        {
          "name": "stdout",
          "output_type": "stream",
          "text": [
            "(a) Liệt kê các đỉnh trong đồ thị\n",
            "Các đỉnh của đồ thị:  Các đỉnh của đồ thị: A B C D E F G H I K\n"
          ]
        }
      ],
      "source": [
        "print(\"(a) Liệt kê các đỉnh trong đồ thị\")\n",
        "print(\"Các đỉnh của đồ thị: \", end = \" \")\n",
        "print(\"Các đỉnh của đồ thị:\", \" \".join(ADJ.keys()))"
      ]
    },
    {
      "cell_type": "code",
      "execution_count": 5,
      "id": "3df2151a-a327-4672-a7af-519084f4b044",
      "metadata": {
        "colab": {
          "base_uri": "https://localhost:8080/"
        },
        "id": "3df2151a-a327-4672-a7af-519084f4b044",
        "outputId": "ce6eae1d-2667-4030-8b59-3e840692b0b5"
      },
      "outputs": [
        {
          "name": "stdout",
          "output_type": "stream",
          "text": [
            "(b) Liệt kê tất cả các cạnh đồ thị hiển thị dạng danh sách kề\n",
            "Danh sách kề của đồ thị: \n",
            "Đỉnh A: C, E, D, F\n",
            "Đỉnh B: \n",
            "Đỉnh C: H\n",
            "Đỉnh D: H, E\n",
            "Đỉnh E: K, I\n",
            "Đỉnh F: G, I\n",
            "Đỉnh G: \n",
            "Đỉnh H: K\n",
            "Đỉnh I: B, K\n",
            "Đỉnh K: B\n"
          ]
        }
      ],
      "source": [
        "print(\"(b) Liệt kê tất cả các cạnh đồ thị hiển thị dạng danh sách kề\")\n",
        "print(\"Danh sách kề của đồ thị: \")\n",
        "\n",
        "def HienThiDoThi(G):\n",
        "    \"\"\" CÁC BẠN LÀM BÀI Ở ĐÂY \"\"\"\n",
        "    for node, neigh in G.items():\n",
        "        print(\"Đỉnh\", node + \":\", \", \".join(neigh))\n",
        "HienThiDoThi(ADJ)"
      ]
    },
    {
      "cell_type": "code",
      "execution_count": 6,
      "id": "4077c30a-c7be-4a44-93de-9ed446a6a368",
      "metadata": {
        "colab": {
          "base_uri": "https://localhost:8080/"
        },
        "id": "4077c30a-c7be-4a44-93de-9ed446a6a368",
        "outputId": "275a38ca-6c60-4ffb-e1d2-d87d020172e5"
      },
      "outputs": [
        {
          "name": "stdout",
          "output_type": "stream",
          "text": [
            "(c) Cho hai đỉnh A, B. Hỏi hai đỉnh A, B có kề nhau không?\n"
          ]
        }
      ],
      "source": [
        "print(\"(c) Cho hai đỉnh A, B. Hỏi hai đỉnh A, B có kề nhau không?\")\n",
        "\n",
        "def LaKe(G, a, b):\n",
        "    if a not in G or b not in G:\n",
        "        return -1\n",
        "    return 1 if b in G[a] else 0"
      ]
    },
    {
      "cell_type": "code",
      "execution_count": 7,
      "id": "0e90a761-8354-460a-a451-1cbb97b9b6b8",
      "metadata": {
        "colab": {
          "base_uri": "https://localhost:8080/"
        },
        "id": "0e90a761-8354-460a-a451-1cbb97b9b6b8",
        "outputId": "0cb3ddc0-faee-42bc-bc99-286e3251037f"
      },
      "outputs": [
        {
          "name": "stdout",
          "output_type": "stream",
          "text": [
            "L ke R: -1\n",
            "A ke R: -1\n",
            "E ke D: 0\n",
            "D ke E: 1\n"
          ]
        }
      ],
      "source": [
        "a = \"L\"; b = \"R\"; print(f\"{a} ke {b}: {LaKe(ADJ, a, b)}\")\n",
        "a = \"A\"; b = \"R\"; print(f\"{a} ke {b}: {LaKe(ADJ, a, b)}\")\n",
        "a = \"E\"; b = \"D\"; print(f\"{a} ke {b}: {LaKe(ADJ, a, b)}\")\n",
        "a = \"D\"; b = \"E\"; print(f\"{a} ke {b}: {LaKe(ADJ, a, b)}\")"
      ]
    },
    {
      "cell_type": "code",
      "execution_count": 8,
      "id": "41048b4b-9311-470f-9c0f-2bcb5b062587",
      "metadata": {
        "colab": {
          "base_uri": "https://localhost:8080/"
        },
        "id": "41048b4b-9311-470f-9c0f-2bcb5b062587",
        "outputId": "727f82bf-1bcb-4d7e-8b56-9fbd3f7ed446"
      },
      "outputs": [
        {
          "name": "stdout",
          "output_type": "stream",
          "text": [
            "(d) Cho một đỉnh A. Hỏi danh sách các đỉnh kề với A\n",
            "Danh sach ke voi dinh P: None\n",
            "Danh sach ke voi dinh A: {'C', 'E', 'D', 'F'}\n",
            "Danh sach ke voi dinh B: {}\n",
            "Danh sach ke voi dinh D: {'H', 'E'}\n"
          ]
        }
      ],
      "source": [
        "print(\"(d) Cho một đỉnh A. Hỏi danh sách các đỉnh kề với A\")\n",
        "\n",
        "def LayKe(G, a):\n",
        "    result = None\n",
        "    if a in G:\n",
        "        result = G[a]\n",
        "    return result\n",
        "\n",
        "a = \"P\"; print(f\"Danh sach ke voi dinh {a}: {LayKe(ADJ, a)}\")\n",
        "a = \"A\"; print(f\"Danh sach ke voi dinh {a}: {LayKe(ADJ, a)}\")\n",
        "a = \"B\"; print(f\"Danh sach ke voi dinh {a}: {LayKe(ADJ, a)}\")\n",
        "a = \"D\"; print(f\"Danh sach ke voi dinh {a}: {LayKe(ADJ, a)}\")"
      ]
    },
    {
      "cell_type": "markdown",
      "id": "465a8fdb-f10f-47a9-91ab-1b23598fda4f",
      "metadata": {
        "id": "465a8fdb-f10f-47a9-91ab-1b23598fda4f"
      },
      "source": [
        "#### 3. Đọc và lưu đồ thị\n",
        "**dske.txt**\n",
        "```\n",
        "10           # số đỉnh đồ thị\n",
        "A C E F D    # đỉnh A kề với C E F D\n",
        "B            # đỉnh B không kề với ai\n",
        "C H\n",
        "D E H\n",
        "E K I\n",
        "F I G\n",
        "G\n",
        "H K\n",
        "I K B\n",
        "K B\n",
        "```"
      ]
    },
    {
      "cell_type": "code",
      "execution_count": null,
      "id": "a71b385f-d571-4d94-88f1-427527c23653",
      "metadata": {
        "colab": {
          "base_uri": "https://localhost:8080/"
        },
        "id": "a71b385f-d571-4d94-88f1-427527c23653",
        "outputId": "4ecbfbb6-b939-42c1-fc02-afd145b4e1d4"
      },
      "outputs": [
        {
          "name": "stdout",
          "output_type": "stream",
          "text": [
            "1. Lưu đồ thị xuống tập tin\n",
            "Lưu đồ thị thành công vào: test.txt\n",
            "10\n",
            "A C E F D\n",
            "B \n",
            "C H\n",
            "D E H\n",
            "E K I\n",
            "F I G\n",
            "G \n",
            "H K\n",
            "I K B\n",
            "K B\n"
          ]
        }
      ],
      "source": [
        "print(\"1. Lưu đồ thị xuống tập tin\")\n",
        "\n",
        "def LuuDoThi(G, file_path, verbose = True):\n",
        "    import os\n",
        "    folder = os.path.dirname(file_path)\n",
        "    if folder and not os.path.exists(folder):\n",
        "        os.makedirs(folder)\n",
        "        if verbose:\n",
        "            print(\"Đã tạo thư mục:\", folder)\n",
        "\n",
        "    with open(file_path, \"w\", encoding=\"utf-8\") as f:\n",
        "        f.write(str(len(G)) + \"\\n\")\n",
        "        for node, nbrs in G.items():\n",
        "            f.write(node + \" \" + \" \".join(nbrs) + \"\\n\")\n",
        "        if verbose:\n",
        "            print(\"Lưu đồ thị thành công vào:\", file_path)\n",
        "\n",
        "ADJ = read_graph(\"dske.txt\")\n",
        "LuuDoThi(ADJ, \"test.txt\", verbose=True)\n",
        "\n",
        "with open(\"test.txt\", \"r\", encoding=\"utf-8\") as f:\n",
        "    for line in f:\n",
        "        print(line, end=\"\")"
      ]
    },
    {
      "cell_type": "code",
      "execution_count": null,
      "id": "b30921dc-fb94-44a5-907f-0d66340757a0",
      "metadata": {
        "colab": {
          "base_uri": "https://localhost:8080/"
        },
        "id": "b30921dc-fb94-44a5-907f-0d66340757a0",
        "outputId": "8114f8c9-5a27-4f2c-f064-9cc49bb9f8f7"
      },
      "outputs": [
        {
          "name": "stdout",
          "output_type": "stream",
          "text": [
            "2. Đọc đồ thị từ tập tin\n",
            "Đã đọc thành công từ dske1.txt\n",
            "{'A': {'F', 'E', 'C', 'D'},\n",
            " 'B': {},\n",
            " 'C': {'H'},\n",
            " 'D': {'E', 'H'},\n",
            " 'E': {'K', 'I'},\n",
            " 'F': {'G', 'I'},\n",
            " 'G': {},\n",
            " 'H': {'K'},\n",
            " 'I': {'K', 'B'},\n",
            " 'K': {'B'}}\n"
          ]
        }
      ],
      "source": [
        "print(\"2. Đọc đồ thị từ tập tin\")\n",
        "import pprint\n",
        "import os\n",
        "\n",
        "def DocDoThi(file_path, verbose = True):\n",
        "    if not os.path.exists(file_path):\n",
        "        return None\n",
        "    g = {}\n",
        "    with open(file_path, \"r\", encoding=\"utf-8\") as f:\n",
        "        n = int(f.readline().strip())\n",
        "        for _ in range(n):\n",
        "            parts = f.readline().split()\n",
        "            g[parts[0]] = set(parts[1:]) if len(parts) > 1 else {}\n",
        "    if verbose:\n",
        "        print(\"Đã đọc thành công từ\", file_path)\n",
        "    return g\n",
        "\n",
        "g1 = DocDoThi(\"dske1.txt\", verbose=True)\n",
        "pprint.pprint(g1)"
      ]
    },
    {
      "cell_type": "markdown",
      "id": "8197f40f-69af-489d-80b5-124c91427db6",
      "metadata": {
        "id": "8197f40f-69af-489d-80b5-124c91427db6"
      },
      "source": [
        "### Bài 2. Tìm kiếm đường đi trên đồ thị"
      ]
    },
    {
      "cell_type": "markdown",
      "id": "43f12303-9ee9-4404-9ecb-f00a5f78e4ee",
      "metadata": {
        "id": "43f12303-9ee9-4404-9ecb-f00a5f78e4ee"
      },
      "source": [
        "#### 1. Tìm kiếm theo chiều rộng (BFS)"
      ]
    },
    {
      "cell_type": "code",
      "execution_count": null,
      "id": "1910f300-4094-4d69-b009-a9d4ea0fb27b",
      "metadata": {
        "id": "1910f300-4094-4d69-b009-a9d4ea0fb27b"
      },
      "outputs": [],
      "source": [
        "import pprint\n",
        "from collections import deque\n",
        "\n",
        "def BFS(G, start, goal):\n",
        "    \"\"\"\n",
        "    return:\n",
        "    + mang chua duong di tu a --> b, neu rong la ko co duong di\n",
        "    + None: dinh a, b khong hop le\n",
        "    \"\"\"\n",
        "    result = None\n",
        "\n",
        "    if G.get(start) is None or G.get(goal) is None:\n",
        "        result = None\n",
        "    else:\n",
        "        path = {}     # path[a]=b nghia la muon di toi dinh b phai qua a\n",
        "        s_open   = []\n",
        "        s_closed = []\n",
        "\n",
        "        # đưa start vào open\n",
        "        s_open.append(start)\n",
        "        path[start] = None\n",
        "        while len(s_open)>0:\n",
        "            u = s_open[0]\n",
        "            del s_open[0]\n",
        "            s_closed.append(u)\n",
        "\n",
        "            for v in G[u]:\n",
        "                if (v not in s_open) and (v not in s_closed):\n",
        "                    path[v] = u\n",
        "                    if v == goal:\n",
        "                        return path\n",
        "                    s_open.append(v)\n",
        "    return path"
      ]
    },
    {
      "cell_type": "code",
      "execution_count": null,
      "id": "ed7e6ed1-ae75-4183-8cb2-0e4eae606144",
      "metadata": {
        "colab": {
          "base_uri": "https://localhost:8080/"
        },
        "id": "ed7e6ed1-ae75-4183-8cb2-0e4eae606144",
        "outputId": "769469ce-be56-4008-f843-b2e63fcbff33"
      },
      "outputs": [
        {
          "name": "stdout",
          "output_type": "stream",
          "text": [
            "{'A': None,\n",
            " 'B': 'K',\n",
            " 'C': 'A',\n",
            " 'D': 'A',\n",
            " 'E': 'A',\n",
            " 'F': 'A',\n",
            " 'G': 'F',\n",
            " 'H': 'C',\n",
            " 'I': 'E',\n",
            " 'K': 'E'}\n"
          ]
        }
      ],
      "source": [
        "path = BFS(ADJ, \"A\", \"B\")\n",
        "pprint.pprint(path)"
      ]
    },
    {
      "cell_type": "code",
      "execution_count": null,
      "id": "cd05574f-d2fa-4f71-80b2-1f9c5b45f945",
      "metadata": {
        "id": "cd05574f-d2fa-4f71-80b2-1f9c5b45f945"
      },
      "outputs": [],
      "source": [
        "def find_path(path, start, goal):\n",
        "    \"\"\"\n",
        "    Cho mang truy hoi duong, tim ds dinh tu start --> goal\n",
        "    \"\"\"\n",
        "    result = []\n",
        "\n",
        "    \"\"\" CÁC BẠN LÀM BÀI Ở ĐÂY \"\"\"\n",
        "    x = goal\n",
        "    while(x is not None):\n",
        "        result.insert(0,x)\n",
        "        x = path.get(x)\n",
        "    return result"
      ]
    },
    {
      "cell_type": "code",
      "execution_count": null,
      "id": "50a093aa-283b-4623-9428-a0631e37328b",
      "metadata": {
        "colab": {
          "base_uri": "https://localhost:8080/"
        },
        "id": "50a093aa-283b-4623-9428-a0631e37328b",
        "outputId": "077a4c0b-855b-4569-f3aa-28cd533bd7cc"
      },
      "outputs": [
        {
          "data": {
            "text/plain": [
              "['A', 'E', 'K', 'B']"
            ]
          },
          "execution_count": 18,
          "metadata": {},
          "output_type": "execute_result"
        }
      ],
      "source": [
        "find_path(path, 'A', 'B')"
      ]
    },
    {
      "cell_type": "markdown",
      "id": "16085819-733d-4f95-a32d-aa52c5e35a6e",
      "metadata": {
        "id": "16085819-733d-4f95-a32d-aa52c5e35a6e"
      },
      "source": [
        "#### 2. Tìm kiếm theo chiều rộng (DFS)"
      ]
    },
    {
      "cell_type": "code",
      "execution_count": null,
      "id": "50ebc7cd-f093-4d06-852c-e6c903e27864",
      "metadata": {
        "id": "50ebc7cd-f093-4d06-852c-e6c903e27864"
      },
      "outputs": [],
      "source": [
        "import pprint\n",
        "\n",
        "def DFS(G, start, goal):\n",
        "    \"\"\"\n",
        "    return:\n",
        "    + mang chua duong di tu a --> b, neu rong la ko co duong di\n",
        "    + None: dinh a, b khong hop le\n",
        "    \"\"\"\n",
        "    result = None\n",
        "\n",
        "    if G.get(start) is None or G.get(goal) is None:\n",
        "        result = None\n",
        "    else:\n",
        "        path = {}     # path[a]=b nghia la muon di toi dinh b phai qua a\n",
        "        s_open   = []\n",
        "        s_closed = []\n",
        "\n",
        "        # đưa start vào open\n",
        "        s_open.append(start)\n",
        "        path[start] = None\n",
        "        while len(s_open)>0:\n",
        "            \"\"\" CÁC BẠN LÀM BÀI Ở ĐÂY \"\"\"\n",
        "            u = s_open.pop()       # lấy đỉnh cuối (stack -> DFS)\n",
        "            s_closed.append(u)\n",
        "\n",
        "            for v in G[u]:\n",
        "                if v not in s_closed and v not in s_open:\n",
        "                    path[v] = u\n",
        "                    if v == goal:\n",
        "                        return path\n",
        "                    s_open.append(v)\n",
        "\n",
        "    return path"
      ]
    },
    {
      "cell_type": "code",
      "execution_count": null,
      "id": "8177518a-8ffc-4a29-be9c-90375367793a",
      "metadata": {
        "colab": {
          "base_uri": "https://localhost:8080/"
        },
        "id": "8177518a-8ffc-4a29-be9c-90375367793a",
        "outputId": "28cdd8f2-8b57-4bfc-db30-0ca11edcd0df"
      },
      "outputs": [
        {
          "name": "stdout",
          "output_type": "stream",
          "text": [
            "{'A': None,\n",
            " 'B': 'K',\n",
            " 'C': 'A',\n",
            " 'D': 'A',\n",
            " 'E': 'A',\n",
            " 'F': 'A',\n",
            " 'H': 'D',\n",
            " 'K': 'H'}\n"
          ]
        }
      ],
      "source": [
        "path = DFS(ADJ, \"A\", \"B\")\n",
        "pprint.pprint(path)"
      ]
    },
    {
      "cell_type": "markdown",
      "id": "d037e84a-1f8c-4388-89f6-9b1e105140da",
      "metadata": {
        "id": "d037e84a-1f8c-4388-89f6-9b1e105140da"
      },
      "source": [
        "# Kết thúc"
      ]
    }
  ],
  "metadata": {
    "colab": {
      "provenance": []
    },
    "kernelspec": {
      "display_name": "base",
      "language": "python",
      "name": "python3"
    },
    "language_info": {
      "codemirror_mode": {
        "name": "ipython",
        "version": 3
      },
      "file_extension": ".py",
      "mimetype": "text/x-python",
      "name": "python",
      "nbconvert_exporter": "python",
      "pygments_lexer": "ipython3",
      "version": "3.12.7"
    }
  },
  "nbformat": 4,
  "nbformat_minor": 5
}
